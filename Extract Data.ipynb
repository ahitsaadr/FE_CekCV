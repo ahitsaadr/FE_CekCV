{
 "cells": [
  {
   "cell_type": "code",
   "execution_count": 9,
   "id": "4baa7548-d749-49c8-97fa-e246807ccdc0",
   "metadata": {},
   "outputs": [],
   "source": [
    "from pypdf import PdfReader\n",
    "\n",
    "def pdf_to_text_pypdf(pdf_path, txt_path):\n",
    "    try:\n",
    "        # Membuka file PDF\n",
    "        reader = PdfReader(pdf_path)\n",
    "        # Menyimpan semua teks dari PDF\n",
    "        text = \"\"\n",
    "        for page in reader.pages:\n",
    "            text += page.extract_text()\n",
    "\n",
    "        # Menyimpan teks ke file .txt\n",
    "        with open(txt_path, 'w', encoding='utf-8') as txt_file:\n",
    "            txt_file.write(text)\n",
    "\n",
    "        print(f\"Teks berhasil diekstrak dari {pdf_path} dan disimpan ke {txt_path}\")\n",
    "\n",
    "    except Exception as e:\n",
    "        print(f\"Terjadi kesalahan: {e}\")"
   ]
  },
  {
   "cell_type": "code",
   "execution_count": 10,
   "id": "02cad0df-03f4-4457-8ff8-f48f364f7306",
   "metadata": {},
   "outputs": [
    {
     "name": "stdout",
     "output_type": "stream",
     "text": [
      "Teks berhasil diekstrak dari dataset/CV Fira Riska Anjassari - Fira Riska Anjassari.pdf dan disimpan ke output.txt\n"
     ]
    }
   ],
   "source": [
    "# Contoh penggunaan fungsi\n",
    "pdf_to_text_pypdf('dataset/CV Fira Riska Anjassari - Fira Riska Anjassari.pdf', 'output.txt')"
   ]
  },
  {
   "cell_type": "code",
   "execution_count": 11,
   "id": "622fb3df-8be4-45cc-b974-7149b951a8fb",
   "metadata": {},
   "outputs": [],
   "source": [
    "import os\n",
    "from pypdf import PdfReader\n",
    "\n",
    "def pdf_to_text_pypdf(pdf_path, txt_path):\n",
    "    try:\n",
    "        # Membuka file PDF\n",
    "        reader = PdfReader(pdf_path)\n",
    "        # Menyimpan semua teks dari PDF\n",
    "        text = \"\"\n",
    "        for page in reader.pages:\n",
    "            text += page.extract_text()\n",
    "\n",
    "        # Jika teks tidak kosong, simpan ke file .txt\n",
    "        if text.strip():\n",
    "            with open(txt_path, 'w', encoding='utf-8') as txt_file:\n",
    "                txt_file.write(text)\n",
    "            print(f\"Teks berhasil diekstrak dari {pdf_path} dan disimpan ke {txt_path}\")\n",
    "        else:\n",
    "            print(f\"Tidak ada teks yang diekstrak dari {pdf_path}, dilewati.\")\n",
    "\n",
    "    except Exception as e:\n",
    "        print(f\"Terjadi kesalahan pada {pdf_path}: {e}\")\n",
    "\n",
    "def extract_from_folder(pdf_folder, output_folder):\n",
    "    if not os.path.exists(output_folder):\n",
    "        os.makedirs(output_folder)\n",
    "\n",
    "    for filename in os.listdir(pdf_folder):\n",
    "        if filename.endswith('.pdf'):\n",
    "            pdf_path = os.path.join(pdf_folder, filename)\n",
    "            txt_path = os.path.join(output_folder, f\"{os.path.splitext(filename)[0]}.txt\")\n",
    "            pdf_to_text_pypdf(pdf_path, txt_path)"
   ]
  },
  {
   "cell_type": "code",
   "execution_count": 12,
   "id": "03351f18-501f-4571-9e41-f4899873aed3",
   "metadata": {
    "scrolled": true
   },
   "outputs": [
    {
     "name": "stdout",
     "output_type": "stream",
     "text": [
      "Tidak ada teks yang diekstrak dari dataset\\2.CV. Bayu Catur Nugroho - Bayu C.pdf, dilewati.\n",
      "Tidak ada teks yang diekstrak dari dataset\\3. Curriculum Vitae (CV) - Fintya Chahyaningrum.pdf, dilewati.\n",
      "Teks berhasil diekstrak dari dataset\\3. cv - Radela K.pdf dan disimpan ke hasil\\3. cv - Radela K.txt\n",
      "Teks berhasil diekstrak dari dataset\\adm hki ts 2023_CV entika - ENTIKA SALSABILA.pdf dan disimpan ke hasil\\adm hki ts 2023_CV entika - ENTIKA SALSABILA.txt\n",
      "Teks berhasil diekstrak dari dataset\\Curriculum Vitae (CV) - Yuliana Prasetiyani - Yuliana Prasetiyani.pdf dan disimpan ke hasil\\Curriculum Vitae (CV) - Yuliana Prasetiyani - Yuliana Prasetiyani.txt\n",
      "Teks berhasil diekstrak dari dataset\\Curriculum Vitae - Faizal Rahmadi Akbar.pdf dan disimpan ke hasil\\Curriculum Vitae - Faizal Rahmadi Akbar.txt\n",
      "Teks berhasil diekstrak dari dataset\\Curriculum Vitae Denis Wildan Pramudya - Denis Wildan.pdf dan disimpan ke hasil\\Curriculum Vitae Denis Wildan Pramudya - Denis Wildan.txt\n",
      "Teks berhasil diekstrak dari dataset\\Curriculum Vitae Hariarti Hersiati - Hariarti Hersiati.pdf dan disimpan ke hasil\\Curriculum Vitae Hariarti Hersiati - Hariarti Hersiati.txt\n",
      "Teks berhasil diekstrak dari dataset\\Curriculum Vitae_Alfian Farikhah Rizqi Hardiansyah - Alfian Farikhah Rizqi Hardiansyah.pdf dan disimpan ke hasil\\Curriculum Vitae_Alfian Farikhah Rizqi Hardiansyah - Alfian Farikhah Rizqi Hardiansyah.txt\n",
      "Teks berhasil diekstrak dari dataset\\Curriculum Vitae_Christian Ivan Pradipta - Christian Ivan.pdf dan disimpan ke hasil\\Curriculum Vitae_Christian Ivan Pradipta - Christian Ivan.txt\n",
      "Teks berhasil diekstrak dari dataset\\CV & Portofolio Taufik F HK - taufik fakrurrahman.pdf dan disimpan ke hasil\\CV & Portofolio Taufik F HK - taufik fakrurrahman.txt\n",
      "Teks berhasil diekstrak dari dataset\\CV & Portofolio_Bintang Pradita Jaya - Bintang Pradita Jaya.pdf dan disimpan ke hasil\\CV & Portofolio_Bintang Pradita Jaya - Bintang Pradita Jaya.txt\n",
      "Teks berhasil diekstrak dari dataset\\CV & Portofolio_Yusuf Faisal A.K - Yusuf Faisal Ardhi K.pdf dan disimpan ke hasil\\CV & Portofolio_Yusuf Faisal A.K - Yusuf Faisal Ardhi K.txt\n",
      "Teks berhasil diekstrak dari dataset\\CV - ALISYA ZAHNA FADILA - Alisya ZF.pdf dan disimpan ke hasil\\CV - ALISYA ZAHNA FADILA - Alisya ZF.txt\n",
      "Teks berhasil diekstrak dari dataset\\CV - Bagus Purnomo Jati.pdf dan disimpan ke hasil\\CV - Bagus Purnomo Jati.txt\n",
      "Teks berhasil diekstrak dari dataset\\CV - Balqis Farah Inas Nabilah - Balqis Farah.pdf dan disimpan ke hasil\\CV - Balqis Farah Inas Nabilah - Balqis Farah.txt\n",
      "Teks berhasil diekstrak dari dataset\\CV - CINDY OLIVIA H.P - Cindy Olivia.pdf dan disimpan ke hasil\\CV - CINDY OLIVIA H.P - Cindy Olivia.txt\n"
     ]
    },
    {
     "name": "stderr",
     "output_type": "stream",
     "text": [
      "Multiple definitions in dictionary at byte 0x27f0 for key /Im11\n",
      "Multiple definitions in dictionary at byte 0x2c77 for key /Im11\n",
      "Multiple definitions in dictionary at byte 0x2c84 for key /Im11\n"
     ]
    },
    {
     "name": "stdout",
     "output_type": "stream",
     "text": [
      "Teks berhasil diekstrak dari dataset\\CV - Dwi Surya Ramadon - Wonogiri - surya ramadon.pdf dan disimpan ke hasil\\CV - Dwi Surya Ramadon - Wonogiri - surya ramadon.txt\n",
      "Teks berhasil diekstrak dari dataset\\CV - Errico Sabastian Prabowo.pdf dan disimpan ke hasil\\CV - Errico Sabastian Prabowo.txt\n",
      "Teks berhasil diekstrak dari dataset\\CV - Frengky Ponco.pdf dan disimpan ke hasil\\CV - Frengky Ponco.txt\n",
      "Teks berhasil diekstrak dari dataset\\CV - Hative Dzunur Romadhoni - hative dr.pdf dan disimpan ke hasil\\CV - Hative Dzunur Romadhoni - hative dr.txt\n",
      "Teks berhasil diekstrak dari dataset\\CV - LUTVI ANIEK - Lutvi Aniek Setiyo Putri.pdf dan disimpan ke hasil\\CV - LUTVI ANIEK - Lutvi Aniek Setiyo Putri.txt\n",
      "Teks berhasil diekstrak dari dataset\\CV -SAPTO ANGGORO ALWI-085853953475 - Sapto Anggoro Alwi.pdf dan disimpan ke hasil\\CV -SAPTO ANGGORO ALWI-085853953475 - Sapto Anggoro Alwi.txt\n",
      "Teks berhasil diekstrak dari dataset\\CV Ageng Buwana - Ageng Buwana.pdf dan disimpan ke hasil\\CV Ageng Buwana - Ageng Buwana.txt\n",
      "Teks berhasil diekstrak dari dataset\\CV AMALIA SISKA WIBOWO-1 - Amalia Siska Wibowo.pdf dan disimpan ke hasil\\CV AMALIA SISKA WIBOWO-1 - Amalia Siska Wibowo.txt\n",
      "Teks berhasil diekstrak dari dataset\\CV AMMAR FARRAS BASSAM - Ammar Farras Bassam.pdf dan disimpan ke hasil\\CV AMMAR FARRAS BASSAM - Ammar Farras Bassam.txt\n",
      "Teks berhasil diekstrak dari dataset\\CV Amos Agung Nugroho - Amos Agung Nugroho.pdf dan disimpan ke hasil\\CV Amos Agung Nugroho - Amos Agung Nugroho.txt\n",
      "Teks berhasil diekstrak dari dataset\\CV AND PORTFOLIO GIGIH PUTRA AMIN - GIGIH PUTRA AMIN P.pdf dan disimpan ke hasil\\CV AND PORTFOLIO GIGIH PUTRA AMIN - GIGIH PUTRA AMIN P.txt\n",
      "Teks berhasil diekstrak dari dataset\\CV Anisa - Anisa Indah.pdf dan disimpan ke hasil\\CV Anisa - Anisa Indah.txt\n",
      "Teks berhasil diekstrak dari dataset\\CV ATS AYUNDA - Ayunda Nurvitania.pdf dan disimpan ke hasil\\CV ATS AYUNDA - Ayunda Nurvitania.txt\n",
      "Teks berhasil diekstrak dari dataset\\CV ATS MAULIFIA 2022 - Maulifia Iqlima Ardiani.pdf dan disimpan ke hasil\\CV ATS MAULIFIA 2022 - Maulifia Iqlima Ardiani.txt\n",
      "Teks berhasil diekstrak dari dataset\\CV Bimantoro Rachmawan Suseno new - Bimantoro Rachmawan Suseno.pdf dan disimpan ke hasil\\CV Bimantoro Rachmawan Suseno new - Bimantoro Rachmawan Suseno.txt\n",
      "Teks berhasil diekstrak dari dataset\\CV Bumisakti - Sakti Rama.pdf dan disimpan ke hasil\\CV Bumisakti - Sakti Rama.txt\n",
      "Teks berhasil diekstrak dari dataset\\CV Dama Alpha Pradipa_1 - Dama Alpha Pradipa.pdf dan disimpan ke hasil\\CV Dama Alpha Pradipa_1 - Dama Alpha Pradipa.txt\n",
      "Teks berhasil diekstrak dari dataset\\CV dan Portofolio_Anggito Lungit -  - Anggito.l 99.pdf dan disimpan ke hasil\\CV dan Portofolio_Anggito Lungit -  - Anggito.l 99.txt\n",
      "Teks berhasil diekstrak dari dataset\\CV Dewantoro Kuncoro Wahyu Utomo - Dewantoro Kuncoro.pdf dan disimpan ke hasil\\CV Dewantoro Kuncoro Wahyu Utomo - Dewantoro Kuncoro.txt\n",
      "Teks berhasil diekstrak dari dataset\\CV Dhiky Angga Pratama - Dhiky Angga Pratama.pdf dan disimpan ke hasil\\CV Dhiky Angga Pratama - Dhiky Angga Pratama.txt\n",
      "Teks berhasil diekstrak dari dataset\\CV DICKY DWI P - Dicky Dwi Prasetyo.pdf dan disimpan ke hasil\\CV DICKY DWI P - Dicky Dwi Prasetyo.txt\n",
      "Teks berhasil diekstrak dari dataset\\CV Dimas Afif Prasdianto - Dimas Afif.pdf dan disimpan ke hasil\\CV Dimas Afif Prasdianto - Dimas Afif.txt\n",
      "Teks berhasil diekstrak dari dataset\\CV Erik Lintang_HK - erik lintang wardani.pdf dan disimpan ke hasil\\CV Erik Lintang_HK - erik lintang wardani.txt\n",
      "Teks berhasil diekstrak dari dataset\\CV EVIANA PUTRI SANTIKA - Eviana Putri Santika.pdf dan disimpan ke hasil\\CV EVIANA PUTRI SANTIKA - Eviana Putri Santika.txt\n",
      "Teks berhasil diekstrak dari dataset\\CV Fira Riska Anjassari - Fira Riska Anjassari.pdf dan disimpan ke hasil\\CV Fira Riska Anjassari - Fira Riska Anjassari.txt\n",
      "Teks berhasil diekstrak dari dataset\\CV Fransisca Poppy Amel - Fransisca Poppy Amelia.pdf dan disimpan ke hasil\\CV Fransisca Poppy Amel - Fransisca Poppy Amelia.txt\n",
      "Teks berhasil diekstrak dari dataset\\CV Girindra updt November 2023 - girindra rahman.pdf dan disimpan ke hasil\\CV Girindra updt November 2023 - girindra rahman.txt\n",
      "Teks berhasil diekstrak dari dataset\\CV Guliaditya baru - Guliaditya Putra Pratama.pdf dan disimpan ke hasil\\CV Guliaditya baru - Guliaditya Putra Pratama.txt\n",
      "Teks berhasil diekstrak dari dataset\\CV Hasan Tri Ashari - Hasan Tri.pdf dan disimpan ke hasil\\CV Hasan Tri Ashari - Hasan Tri.txt\n",
      "Teks berhasil diekstrak dari dataset\\CV Hazza Muhammad Daffa - Hazza_ Muhammad Daffa_.pdf dan disimpan ke hasil\\CV Hazza Muhammad Daffa - Hazza_ Muhammad Daffa_.txt\n",
      "Teks berhasil diekstrak dari dataset\\CV HK Nadhifa Aqilatul Hafshoh - nadhifa a.pdf dan disimpan ke hasil\\CV HK Nadhifa Aqilatul Hafshoh - nadhifa a.txt\n",
      "Teks berhasil diekstrak dari dataset\\CV HK_ Amin Fahrudin Setyowaskito - Amin Fahrudin.pdf dan disimpan ke hasil\\CV HK_ Amin Fahrudin Setyowaskito - Amin Fahrudin.txt\n",
      "Teks berhasil diekstrak dari dataset\\CV Ihsan Fahmi - Ihsan Fahmi.pdf dan disimpan ke hasil\\CV Ihsan Fahmi - Ihsan Fahmi.txt\n",
      "Teks berhasil diekstrak dari dataset\\CV INEKE BELA RAMDANI - ineke bela.pdf dan disimpan ke hasil\\CV INEKE BELA RAMDANI - ineke bela.txt\n",
      "Teks berhasil diekstrak dari dataset\\CV IRSAN NURHADI 1 - Irsan Nurhadi.pdf dan disimpan ke hasil\\CV IRSAN NURHADI 1 - Irsan Nurhadi.txt\n",
      "Teks berhasil diekstrak dari dataset\\CV Irvan Yoga Pratama - Irvan Yoga Pratama.pdf dan disimpan ke hasil\\CV Irvan Yoga Pratama - Irvan Yoga Pratama.txt\n",
      "Teks berhasil diekstrak dari dataset\\CV KARTIKA - Kartika Anggonowati.pdf dan disimpan ke hasil\\CV KARTIKA - Kartika Anggonowati.txt\n",
      "Teks berhasil diekstrak dari dataset\\CV KHARISMA AYU WULANDARI - Kharisma Ayu.pdf dan disimpan ke hasil\\CV KHARISMA AYU WULANDARI - Kharisma Ayu.txt\n",
      "Tidak ada teks yang diekstrak dari dataset\\CV lilik widianto - Lilik widianto.pdf, dilewati.\n",
      "Teks berhasil diekstrak dari dataset\\CV Lutvi Rachmawati - Lutvi Rachmawati.pdf dan disimpan ke hasil\\CV Lutvi Rachmawati - Lutvi Rachmawati.txt\n",
      "Teks berhasil diekstrak dari dataset\\CV MUHAMMAD AQSA BRAMANTYO PARADY - aqsa parady.pdf dan disimpan ke hasil\\CV MUHAMMAD AQSA BRAMANTYO PARADY - aqsa parady.txt\n",
      "Teks berhasil diekstrak dari dataset\\CV MUHAMMAD GANDHI RAYVALDO 23 11 2023 - Muhammad Gandhi Rayvaldo.pdf dan disimpan ke hasil\\CV MUHAMMAD GANDHI RAYVALDO 23 11 2023 - Muhammad Gandhi Rayvaldo.txt\n",
      "Teks berhasil diekstrak dari dataset\\CV Nanda Galuh K-HK - Nanda Galuh Kameswara.pdf dan disimpan ke hasil\\CV Nanda Galuh K-HK - Nanda Galuh Kameswara.txt\n",
      "Teks berhasil diekstrak dari dataset\\CV NATASIA AYU OKTAVIANA - Natasia Ayu.pdf dan disimpan ke hasil\\CV NATASIA AYU OKTAVIANA - Natasia Ayu.txt\n",
      "Tidak ada teks yang diekstrak dari dataset\\CV PUTRI KARUNIASARI - Putri Karuniasari.pdf, dilewati.\n",
      "Teks berhasil diekstrak dari dataset\\cv rafly - rafly hafizh.pdf dan disimpan ke hasil\\cv rafly - rafly hafizh.txt\n",
      "Teks berhasil diekstrak dari dataset\\CV RICO FATCHUR ROZI 1 - rico fatchur rozi.pdf dan disimpan ke hasil\\CV RICO FATCHUR ROZI 1 - rico fatchur rozi.txt\n",
      "Teks berhasil diekstrak dari dataset\\CV Rosyihan Caesar N - Rosyihan Caesar Nurrohman.pdf dan disimpan ke hasil\\CV Rosyihan Caesar N - Rosyihan Caesar Nurrohman.txt\n",
      "Teks berhasil diekstrak dari dataset\\CV Siswanti Handayani - Siswanti Handayani.pdf dan disimpan ke hasil\\CV Siswanti Handayani - Siswanti Handayani.txt\n",
      "Teks berhasil diekstrak dari dataset\\CV SULIS SETIASTUTI - Sulis Setiastuti.pdf dan disimpan ke hasil\\CV SULIS SETIASTUTI - Sulis Setiastuti.txt\n",
      "Teks berhasil diekstrak dari dataset\\CV SUSANA NOPITA - Susana Nopita.pdf dan disimpan ke hasil\\CV SUSANA NOPITA - Susana Nopita.txt\n",
      "Teks berhasil diekstrak dari dataset\\CV Terbaru 23 Nov - Fifin Amalia Ghinannafsi.pdf dan disimpan ke hasil\\CV Terbaru 23 Nov - Fifin Amalia Ghinannafsi.txt\n",
      "Teks berhasil diekstrak dari dataset\\CV Ulinuha Faris Nashrullah - Sersynouf _17.pdf dan disimpan ke hasil\\CV Ulinuha Faris Nashrullah - Sersynouf _17.txt\n",
      "Teks berhasil diekstrak dari dataset\\CV Willy Anastasya Ilonka - Willy Anastasya Ilonka.pdf dan disimpan ke hasil\\CV Willy Anastasya Ilonka - Willy Anastasya Ilonka.txt\n",
      "Teks berhasil diekstrak dari dataset\\CV Yosefina Cinta Radityaningtyas - Yosefina Cinta Radityaningtyas.pdf dan disimpan ke hasil\\CV Yosefina Cinta Radityaningtyas - Yosefina Cinta Radityaningtyas.txt\n",
      "Teks berhasil diekstrak dari dataset\\CV-Fachrizal Wisnu Wisuda - Fachrizal Wisnu.pdf dan disimpan ke hasil\\CV-Fachrizal Wisnu Wisuda - Fachrizal Wisnu.txt\n",
      "Teks berhasil diekstrak dari dataset\\CV-FAQIH FAISAL ARIAN - Faqih Faisal Arian.pdf dan disimpan ke hasil\\CV-FAQIH FAISAL ARIAN - Faqih Faisal Arian.txt\n",
      "Teks berhasil diekstrak dari dataset\\CV-Sri Dharma Agung Pradana - Sri Dharma.pdf dan disimpan ke hasil\\CV-Sri Dharma Agung Pradana - Sri Dharma.txt\n",
      "Teks berhasil diekstrak dari dataset\\CV. BAGAS ADI NUGROHO - Bagas Adi Nugroho.pdf dan disimpan ke hasil\\CV. BAGAS ADI NUGROHO - Bagas Adi Nugroho.txt\n",
      "Teks berhasil diekstrak dari dataset\\CV. M. YANUAR REGA  - Muchamamad Yanuar Rega Pratama.pdf dan disimpan ke hasil\\CV. M. YANUAR REGA  - Muchamamad Yanuar Rega Pratama.txt\n",
      "Teks berhasil diekstrak dari dataset\\CV. Panji Sukma Nugraha  - Panji Sukma Nugraha.pdf dan disimpan ke hasil\\CV. Panji Sukma Nugraha  - Panji Sukma Nugraha.txt\n",
      "Teks berhasil diekstrak dari dataset\\CV.AHMAD SULTHON ABROR - Ahmad Sulthon Abror.pdf dan disimpan ke hasil\\CV.AHMAD SULTHON ABROR - Ahmad Sulthon Abror.txt\n",
      "Teks berhasil diekstrak dari dataset\\CV_Ade Irfan Oktavian - Ade Irfan.pdf dan disimpan ke hasil\\CV_Ade Irfan Oktavian - Ade Irfan.txt\n",
      "Teks berhasil diekstrak dari dataset\\CV_Alpan Mangantar Hutapea (2023) - Alpan Hutapea.pdf dan disimpan ke hasil\\CV_Alpan Mangantar Hutapea (2023) - Alpan Hutapea.txt\n",
      "Teks berhasil diekstrak dari dataset\\CV_Anang Kusuma Wijaya - Anang Kusuma Wijaya.pdf dan disimpan ke hasil\\CV_Anang Kusuma Wijaya - Anang Kusuma Wijaya.txt\n",
      "Teks berhasil diekstrak dari dataset\\CV_APRIAN CAHYO YUWONO - Cahyo S.pdf dan disimpan ke hasil\\CV_APRIAN CAHYO YUWONO - Cahyo S.txt\n",
      "Teks berhasil diekstrak dari dataset\\CV_Ardha Fathoni_Update - Ardha Fathoni.pdf dan disimpan ke hasil\\CV_Ardha Fathoni_Update - Ardha Fathoni.txt\n",
      "Teks berhasil diekstrak dari dataset\\CV_Ari Syaifudin - Ari Syaifudin.pdf dan disimpan ke hasil\\CV_Ari Syaifudin - Ari Syaifudin.txt\n",
      "Teks berhasil diekstrak dari dataset\\CV_DEWA AKBAR INDRIARTO - Dewa Akbar Indriarto.pdf dan disimpan ke hasil\\CV_DEWA AKBAR INDRIARTO - Dewa Akbar Indriarto.txt\n",
      "Teks berhasil diekstrak dari dataset\\CV_Dian Metri Arianti - dian metri arianti.pdf dan disimpan ke hasil\\CV_Dian Metri Arianti - dian metri arianti.txt\n",
      "Teks berhasil diekstrak dari dataset\\CV_Evelyne Syane Laisina (1)-1 (1) - Evelyne Syane.pdf dan disimpan ke hasil\\CV_Evelyne Syane Laisina (1)-1 (1) - Evelyne Syane.txt\n",
      "Teks berhasil diekstrak dari dataset\\CV_GALIH AGUNG PRAMUDYA - Galih Agung Pramudya.pdf dan disimpan ke hasil\\CV_GALIH AGUNG PRAMUDYA - Galih Agung Pramudya.txt\n",
      "Teks berhasil diekstrak dari dataset\\CV_Lusia Anggi Paramita - Lusia Anggi.pdf dan disimpan ke hasil\\CV_Lusia Anggi Paramita - Lusia Anggi.txt\n",
      "Teks berhasil diekstrak dari dataset\\CV_Lutfia Fara Azhari - Lutfia Fara.pdf dan disimpan ke hasil\\CV_Lutfia Fara Azhari - Lutfia Fara.txt\n",
      "Teks berhasil diekstrak dari dataset\\CV_MEILIA RAHMAWATI - Meilia Rahmawati.pdf dan disimpan ke hasil\\CV_MEILIA RAHMAWATI - Meilia Rahmawati.txt\n",
      "Teks berhasil diekstrak dari dataset\\CV_Melissa Melin - Melissa Banjarnahor.pdf dan disimpan ke hasil\\CV_Melissa Melin - Melissa Banjarnahor.txt\n",
      "Teks berhasil diekstrak dari dataset\\CV_MOHAMMAD FAIZ NUR FALLAH. - Mohammad Faiz Nur Fallah.pdf dan disimpan ke hasil\\CV_MOHAMMAD FAIZ NUR FALLAH. - Mohammad Faiz Nur Fallah.txt\n",
      "Teks berhasil diekstrak dari dataset\\CV_Muhammad Abid - Muhammad Abid.pdf dan disimpan ke hasil\\CV_Muhammad Abid - Muhammad Abid.txt\n",
      "Teks berhasil diekstrak dari dataset\\CV_Muis Nur Rohmat - Mu_is Nur Rohmat PMB.pdf dan disimpan ke hasil\\CV_Muis Nur Rohmat - Mu_is Nur Rohmat PMB.txt\n",
      "Teks berhasil diekstrak dari dataset\\CV_Nabilah Aghniya_ul Husnah - Nabilah Aghniyaul Husnah.pdf dan disimpan ke hasil\\CV_Nabilah Aghniya_ul Husnah - Nabilah Aghniyaul Husnah.txt\n",
      "Teks berhasil diekstrak dari dataset\\CV_NAUFAL FIRDAUS PRASTOMO - Naufal Firdaus Prastomo.pdf dan disimpan ke hasil\\CV_NAUFAL FIRDAUS PRASTOMO - Naufal Firdaus Prastomo.txt\n",
      "Teks berhasil diekstrak dari dataset\\CV_Nova Dwi Saputro (1) - Nova Dwi Saputro.pdf dan disimpan ke hasil\\CV_Nova Dwi Saputro (1) - Nova Dwi Saputro.txt\n",
      "Teks berhasil diekstrak dari dataset\\CV_Noveita Anisa Putri - Noveita Putri.pdf dan disimpan ke hasil\\CV_Noveita Anisa Putri - Noveita Putri.txt\n",
      "Teks berhasil diekstrak dari dataset\\CV_Rafita Azzahra - Rafita Azzahra.pdf dan disimpan ke hasil\\CV_Rafita Azzahra - Rafita Azzahra.txt\n",
      "Teks berhasil diekstrak dari dataset\\CV_Rahmat Fauzin Pasetyo - Rahmat Fauzin Prasetyo.pdf dan disimpan ke hasil\\CV_Rahmat Fauzin Pasetyo - Rahmat Fauzin Prasetyo.txt\n",
      "Teks berhasil diekstrak dari dataset\\CV_RAMADHAN WIDY PRATAMA - Rama Dhan.pdf dan disimpan ke hasil\\CV_RAMADHAN WIDY PRATAMA - Rama Dhan.txt\n",
      "Teks berhasil diekstrak dari dataset\\CV_RAMADHAN WIDY PRATAMA - Ramadhan Widy Pratama.pdf dan disimpan ke hasil\\CV_RAMADHAN WIDY PRATAMA - Ramadhan Widy Pratama.txt\n",
      "Teks berhasil diekstrak dari dataset\\CV_Rofliana Irham Dahnyar - Rofliana Irham Dahnyar.pdf dan disimpan ke hasil\\CV_Rofliana Irham Dahnyar - Rofliana Irham Dahnyar.txt\n",
      "Teks berhasil diekstrak dari dataset\\CV_Vincentius Yudha Prajantara bim - Vincentius Yudha Prajantara.pdf dan disimpan ke hasil\\CV_Vincentius Yudha Prajantara bim - Vincentius Yudha Prajantara.txt\n",
      "Teks berhasil diekstrak dari dataset\\CV_Vita Febriyanti - Vita Febriyanti.pdf dan disimpan ke hasil\\CV_Vita Febriyanti - Vita Febriyanti.txt\n",
      "Teks berhasil diekstrak dari dataset\\CV_Wisda J Panjaitan - Wisda J Panjaitan.pdf dan disimpan ke hasil\\CV_Wisda J Panjaitan - Wisda J Panjaitan.txt\n",
      "Teks berhasil diekstrak dari dataset\\CV_YELSA HANIFAH ARDIN NEW - Yelsa Hanifah.pdf dan disimpan ke hasil\\CV_YELSA HANIFAH ARDIN NEW - Yelsa Hanifah.txt\n",
      "Teks berhasil diekstrak dari dataset\\CV_YOGA ARDIAN SUGAWA - Yoga Ardian.pdf dan disimpan ke hasil\\CV_YOGA ARDIAN SUGAWA - Yoga Ardian.txt\n",
      "Teks berhasil diekstrak dari dataset\\DANINDRA PURWA AJI SATRIA CVKU - Danindra Purwa Aji Satria.pdf dan disimpan ke hasil\\DANINDRA PURWA AJI SATRIA CVKU - Danindra Purwa Aji Satria.txt\n",
      "Teks berhasil diekstrak dari dataset\\Dendi Sri Sulistyantoro_Curriculum Vitae (1) - Dendi Sri Sulistyantoro.pdf dan disimpan ke hasil\\Dendi Sri Sulistyantoro_Curriculum Vitae (1) - Dendi Sri Sulistyantoro.txt\n",
      "Teks berhasil diekstrak dari dataset\\FAIZ IHZA FAILASUF - Faiz Ihza Failasuf.pdf dan disimpan ke hasil\\FAIZ IHZA FAILASUF - Faiz Ihza Failasuf.txt\n",
      "Teks berhasil diekstrak dari dataset\\Henry Jaka Kusuma CV - Henry Jaka Kusuma.pdf dan disimpan ke hasil\\Henry Jaka Kusuma CV - Henry Jaka Kusuma.txt\n",
      "Teks berhasil diekstrak dari dataset\\MARDIANTI OLIVIA MAHARANI CV - Mardianti Olivia.pdf dan disimpan ke hasil\\MARDIANTI OLIVIA MAHARANI CV - Mardianti Olivia.txt\n",
      "Teks berhasil diekstrak dari dataset\\Maulvi Chairurraziqin-Resume - Maulvi Chairurraziqin.pdf dan disimpan ke hasil\\Maulvi Chairurraziqin-Resume - Maulvi Chairurraziqin.txt\n",
      "Tidak ada teks yang diekstrak dari dataset\\Merlin Memayu - Curriculum Vitae - Merlin Memayu.pdf, dilewati.\n",
      "Teks berhasil diekstrak dari dataset\\Poppy Pratiwi Dipoyanti - Poppy Pradi.pdf dan disimpan ke hasil\\Poppy Pratiwi Dipoyanti - Poppy Pradi.txt\n",
      "Teks berhasil diekstrak dari dataset\\Prayoga Mulad Suasana-CV - Mulad Prayoga.pdf dan disimpan ke hasil\\Prayoga Mulad Suasana-CV - Mulad Prayoga.txt\n",
      "Teks berhasil diekstrak dari dataset\\Rafiel Carino Syahroni-resume ID - Rafiel Carino Syahroni.pdf dan disimpan ke hasil\\Rafiel Carino Syahroni-resume ID - Rafiel Carino Syahroni.txt\n",
      "Teks berhasil diekstrak dari dataset\\Rahmat Dwi Mardiyanto_CV - Rahmat Dwi Mardiyanto.pdf dan disimpan ke hasil\\Rahmat Dwi Mardiyanto_CV - Rahmat Dwi Mardiyanto.txt\n",
      "Teks berhasil diekstrak dari dataset\\Resume-Wahyu Krisna R - Wahyu Krisna Raharja.pdf dan disimpan ke hasil\\Resume-Wahyu Krisna R - Wahyu Krisna Raharja.txt\n",
      "Teks berhasil diekstrak dari dataset\\Riedwan Maullana-Curriculum Vitae - Riedwan Maullana.pdf dan disimpan ke hasil\\Riedwan Maullana-Curriculum Vitae - Riedwan Maullana.txt\n",
      "Teks berhasil diekstrak dari dataset\\Safira Parama Santati - Safira Parama Santati.pdf dan disimpan ke hasil\\Safira Parama Santati - Safira Parama Santati.txt\n",
      "Teks berhasil diekstrak dari dataset\\Sulthan Arif Adji Utama - Pelaksana Pengukuran - Sulthan Adji.pdf dan disimpan ke hasil\\Sulthan Arif Adji Utama - Pelaksana Pengukuran - Sulthan Adji.txt\n",
      "Teks berhasil diekstrak dari dataset\\Zaky Ahmad Naufal-CV - Zaky Ahmad Naufal.pdf dan disimpan ke hasil\\Zaky Ahmad Naufal-CV - Zaky Ahmad Naufal.txt\n"
     ]
    }
   ],
   "source": [
    "# Menentukan folder input dan output\n",
    "pdf_folder = 'dataset'\n",
    "output_folder = 'hasil'\n",
    "\n",
    "# Memanggil fungsi untuk memulai ekstraksi\n",
    "extract_from_folder(pdf_folder, output_folder)"
   ]
  },
  {
   "cell_type": "code",
   "execution_count": 1,
   "id": "7dd7d8d3-b4ed-4a65-a333-5f6b8551043b",
   "metadata": {},
   "outputs": [],
   "source": [
    "import os\n",
    "from pypdf import PdfReader\n",
    "import pandas as pd\n",
    "\n",
    "def pdf_to_text_pypdf(pdf_path):\n",
    "    try:\n",
    "        reader = PdfReader(pdf_path)\n",
    "        text = \"\"\n",
    "        for page in reader.pages:\n",
    "            text += page.extract_text()\n",
    "        return text.strip()  # Menghapus spasi kosong di awal dan akhir\n",
    "    except Exception as e:\n",
    "        print(f\"Terjadi kesalahan pada {pdf_path}: {e}\")\n",
    "        return None\n",
    "\n",
    "def extract_and_save_to_csv(pdf_folder, csv_path):\n",
    "    data = []\n",
    "    for filename in os.listdir(pdf_folder):\n",
    "        if filename.endswith('.pdf'):\n",
    "            pdf_path = os.path.join(pdf_folder, filename)\n",
    "            text = pdf_to_text_pypdf(pdf_path)\n",
    "            if text:  # Hanya menyimpan teks yang tidak kosong\n",
    "                data.append({\n",
    "                    'cv_pelamar': text,\n",
    "                    'path': filename,\n",
    "                    'file_name': filename  # Menambahkan nama file PDF\n",
    "                })\n",
    "            else:\n",
    "                print(f\"Tidak ada teks yang diekstrak dari {pdf_path}, dilewati.\")\n",
    "\n",
    "    if data:\n",
    "        df = pd.DataFrame(data)\n",
    "        df.to_csv(csv_path, index=False, escapechar='\\\\')\n",
    "        print(f\"Teks berhasil disimpan ke {csv_path}\")\n",
    "    else:\n",
    "        print(\"Tidak ada teks yang diekstrak, file CSV tidak dibuat.\")"
   ]
  },
  {
   "cell_type": "code",
   "execution_count": null,
   "id": "8ebb01ad-43e1-4c58-9033-76af372458a5",
   "metadata": {},
   "outputs": [
    {
     "name": "stdout",
     "output_type": "stream",
     "text": [
      "Tidak ada teks yang diekstrak dari dataset\\2.CV. Bayu Catur Nugroho - Bayu C.pdf, dilewati.\n",
      "Tidak ada teks yang diekstrak dari dataset\\3. Curriculum Vitae (CV) - Fintya Chahyaningrum.pdf, dilewati.\n"
     ]
    },
    {
     "name": "stderr",
     "output_type": "stream",
     "text": [
      "Multiple definitions in dictionary at byte 0x27f0 for key /Im11\n",
      "Multiple definitions in dictionary at byte 0x2c77 for key /Im11\n",
      "Multiple definitions in dictionary at byte 0x2c84 for key /Im11\n"
     ]
    },
    {
     "name": "stdout",
     "output_type": "stream",
     "text": [
      "Tidak ada teks yang diekstrak dari dataset\\CV lilik widianto - Lilik widianto.pdf, dilewati.\n",
      "Tidak ada teks yang diekstrak dari dataset\\CV PUTRI KARUNIASARI - Putri Karuniasari.pdf, dilewati.\n"
     ]
    }
   ],
   "source": [
    "# Menentukan folder input dan output\n",
    "pdf_folder = 'dataset'\n",
    "csv_path = 'output_csv/cv_pelamar.csv'\n",
    "\n",
    "# Membuat folder hasil jika belum ada\n",
    "os.makedirs(os.path.dirname(csv_path), exist_ok=True)\n",
    "\n",
    "# Memanggil fungsi untuk memulai ekstraksi dan penyimpanan ke CSV\n",
    "extract_and_save_to_csv(pdf_folder, csv_path)"
   ]
  },
  {
   "cell_type": "code",
   "execution_count": 1,
   "id": "1ed481a0-dc08-4a1c-9e52-1a4d23c0f72c",
   "metadata": {},
   "outputs": [
    {
     "name": "stdout",
     "output_type": "stream",
     "text": [
      "2 = 2\n",
      "4 = 2\n",
      "5 = 1\n",
      "1 = 1\n",
      "7 = 1\n",
      "6 = 1\n",
      "9 = 1\n",
      "12 = 1\n"
     ]
    }
   ],
   "source": [
    "list1 = [2, 4, 5, 1, 7]\n",
    "list2 = [2, 6, 9, 12, 4]\n",
    "\n",
    "# Gabungkan kedua list\n",
    "combined_list = list1 + list2\n",
    "\n",
    "# Gunakan dictionary untuk menghitung frekuensi\n",
    "frequency = {}\n",
    "\n",
    "for number in combined_list:\n",
    "    if number in frequency:\n",
    "        frequency[number] += 1\n",
    "    else:\n",
    "        frequency[number] = 1\n",
    "\n",
    "# Cetak hasilnya\n",
    "for number, count in frequency.items():\n",
    "    print(f\"{number} = {count}\")"
   ]
  },
  {
   "cell_type": "code",
   "execution_count": null,
   "id": "1d6319fb-5500-418f-8b5e-8c1274597bb8",
   "metadata": {},
   "outputs": [],
   "source": []
  }
 ],
 "metadata": {
  "kernelspec": {
   "display_name": "Python 3 (ipykernel)",
   "language": "python",
   "name": "python3"
  },
  "language_info": {
   "codemirror_mode": {
    "name": "ipython",
    "version": 3
   },
   "file_extension": ".py",
   "mimetype": "text/x-python",
   "name": "python",
   "nbconvert_exporter": "python",
   "pygments_lexer": "ipython3",
   "version": "3.10.14"
  }
 },
 "nbformat": 4,
 "nbformat_minor": 5
}
